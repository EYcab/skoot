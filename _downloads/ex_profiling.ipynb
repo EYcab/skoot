{
  "nbformat_minor": 0, 
  "nbformat": 4, 
  "cells": [
    {
      "execution_count": null, 
      "cell_type": "code", 
      "source": [
        "%matplotlib inline"
      ], 
      "outputs": [], 
      "metadata": {
        "collapsed": false
      }
    }, 
    {
      "source": [
        "\n# Profiling estimators\n\n\nSkoot provides a convenient mechanism for profiling estimators and\ndetermining whether they're performing up to standards. In this way,\nyou can determine the slowest point of your pipeline and diagnose\nbottlenecks that could impede production performance.\n\nProfiling can be performed on any estimator as long as the function\nin which you're interested is decorated by the ``@timed_instance_method``\nfunction decorator.\n\n.. raw:: html\n\n   <br/>\n\n"
      ], 
      "cell_type": "markdown", 
      "metadata": {}
    }, 
    {
      "execution_count": null, 
      "cell_type": "code", 
      "source": [
        "print(__doc__)\n\n# Author: Taylor Smith <taylor.smith@alkaline-ml.com>\n\nfrom sklearn.ensemble import RandomForestClassifier\nfrom sklearn.pipeline import Pipeline\nfrom sklearn.model_selection import train_test_split\nfrom skoot.datasets import load_iris_df\nfrom skoot.decomposition import SelectiveTruncatedSVD, SelectivePCA\nfrom skoot.preprocessing import (BoxCoxTransformer, SelectiveStandardScaler)\nfrom skoot.utils.profiling import profile_estimator\n\n# #############################################################################\n# load & split data\nX = load_iris_df()\ny = X.pop('species')\nX_train, X_test, y_train, y_test = train_test_split(X, y, test_size=0.25,\n                                                    random_state=42)\n\n# #############################################################################\n# Fit a complex pipeline\npipe = Pipeline([\n    ('scaler', SelectiveStandardScaler()),\n    ('boxcox', BoxCoxTransformer(suppress_warnings=True)),\n    ('pca', SelectivePCA()),\n    ('svd', SelectiveTruncatedSVD()),\n    ('model', RandomForestClassifier())\n])\n\npipe.fit(X_train, y_train)\n\n# Profile it:\nprint(profile_estimator(pipe))"
      ], 
      "outputs": [], 
      "metadata": {
        "collapsed": false
      }
    }
  ], 
  "metadata": {
    "kernelspec": {
      "display_name": "Python 2", 
      "name": "python2", 
      "language": "python"
    }, 
    "language_info": {
      "mimetype": "text/x-python", 
      "nbconvert_exporter": "python", 
      "name": "python", 
      "file_extension": ".py", 
      "version": "2.7.12", 
      "pygments_lexer": "ipython2", 
      "codemirror_mode": {
        "version": 2, 
        "name": "ipython"
      }
    }
  }
}