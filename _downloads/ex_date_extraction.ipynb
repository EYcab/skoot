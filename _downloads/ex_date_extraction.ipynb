{
  "nbformat_minor": 0, 
  "nbformat": 4, 
  "cells": [
    {
      "execution_count": null, 
      "cell_type": "code", 
      "source": [
        "%matplotlib inline"
      ], 
      "outputs": [], 
      "metadata": {
        "collapsed": false
      }
    }, 
    {
      "source": [
        "\n# Extracting date features\n\n\nDemonstrates how to automatically extract factor-level features from\ndatetime fields.\n\n.. raw:: html\n\n   <br/>\n\n"
      ], 
      "cell_type": "markdown", 
      "metadata": {}
    }, 
    {
      "execution_count": null, 
      "cell_type": "code", 
      "source": [
        "print(__doc__)\n\n# Author: Taylor Smith <taylor.smith@alkaline-ml.com>\n\nfrom skoot.feature_extraction import DateFactorizer\nimport pandas as pd\nfrom datetime import datetime as dt\n\n# #############################################################################\n# create data\ndata = [\n    [1, dt.strptime(\"06-01-2018 12:00:05\", \"%m-%d-%Y %H:%M:%S\")],\n    [2, dt.strptime(\"06-02-2018 13:19:12\", \"%m-%d-%Y %H:%M:%S\")],\n    [3, dt.strptime(\"06-03-2018 06:04:17\", \"%m-%d-%Y %H:%M:%S\")],\n    [4, dt.strptime(\"06-04-2018 03:56:32\", \"%m-%d-%Y %H:%M:%S\")],\n    [5, None]\n]\n\ndf = pd.DataFrame.from_records(data, columns=[\"transaction_id\", \"time\"])\n\n# We can extract a multitude of features from date fields. The default will\n# grab the year, month, day and hour\nprint(\"Default features:\")\nprint(DateFactorizer(cols=['time']).fit_transform(df))\n\n# we can specify more if we'd like:\nprint(\"\\n+Minutes, +Seconds:\")\nprint(DateFactorizer(cols=['time'],\n                     features=(\"year\", \"month\", \"day\",\n                               \"hour\", \"minute\", \"second\")).fit_transform(df))\n\n# And we can retain the old (pre-transform) time features if we wanted\nprint(\"\\nSame as above, but retain old time column:\")\nprint(DateFactorizer(cols=['time'],\n                     drop_original=False,\n                     features=(\"year\", \"month\", \"day\",\n                               \"hour\", \"minute\", \"second\")).fit_transform(df))"
      ], 
      "outputs": [], 
      "metadata": {
        "collapsed": false
      }
    }
  ], 
  "metadata": {
    "kernelspec": {
      "display_name": "Python 2", 
      "name": "python2", 
      "language": "python"
    }, 
    "language_info": {
      "mimetype": "text/x-python", 
      "nbconvert_exporter": "python", 
      "name": "python", 
      "file_extension": ".py", 
      "version": "2.7.12", 
      "pygments_lexer": "ipython2", 
      "codemirror_mode": {
        "version": 2, 
        "name": "ipython"
      }
    }
  }
}