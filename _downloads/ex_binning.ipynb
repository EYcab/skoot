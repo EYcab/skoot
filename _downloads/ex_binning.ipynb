{
  "nbformat_minor": 0, 
  "nbformat": 4, 
  "cells": [
    {
      "execution_count": null, 
      "cell_type": "code", 
      "source": [
        "%matplotlib inline"
      ], 
      "outputs": [], 
      "metadata": {
        "collapsed": false
      }
    }, 
    {
      "source": [
        "\n# Binning transformer\n\n\nDemonstrates how to bin continuous features in your dataset.\n\n.. raw:: html\n\n   <br/>\n\n"
      ], 
      "cell_type": "markdown", 
      "metadata": {}
    }, 
    {
      "execution_count": null, 
      "cell_type": "code", 
      "source": [
        "print(__doc__)\n\n# Author: Taylor Smith <taylor.smith@alkaline-ml.com>\n\nfrom matplotlib import pyplot as plt\nfrom skoot.datasets import load_iris_df\nfrom skoot.preprocessing import BinningTransformer\n\n# #############################################################################\n# load data\niris = load_iris_df(include_tgt=False, names=[\"a\", \"b\", \"c\", \"d\"])\nbinner = BinningTransformer(cols=[\"a\", \"b\"], return_bin_label=True,\n                            strategy=\"uniform\", overwrite=False,\n                            n_bins=4)\n\n# print the head of the binned dataset\nprint(binner.fit_transform(iris).head())\n\n# #############################################################################\n# Show where the boundaries reside\n\na_lower = binner.bins_[\"a\"].lower_bounds[1:]  # skip the -np.inf\nplt.hist(iris[\"a\"].values)\n\n# plot vertical lines where bins are\nfor bound in a_lower:\n    plt.axvline(bound, ls=\"--\")\nplt.title(\"Iris feature 'a' + bin markers\")\nplt.show()"
      ], 
      "outputs": [], 
      "metadata": {
        "collapsed": false
      }
    }
  ], 
  "metadata": {
    "kernelspec": {
      "display_name": "Python 2", 
      "name": "python2", 
      "language": "python"
    }, 
    "language_info": {
      "mimetype": "text/x-python", 
      "nbconvert_exporter": "python", 
      "name": "python", 
      "file_extension": ".py", 
      "version": "2.7.12", 
      "pygments_lexer": "ipython2", 
      "codemirror_mode": {
        "version": 2, 
        "name": "ipython"
      }
    }
  }
}