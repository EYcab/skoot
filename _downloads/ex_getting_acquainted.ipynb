{
  "cells": [
    {
      "source": [
        "%matplotlib inline"
      ],
      "cell_type": "code",
      "metadata": {
        "collapsed": false
      },
      "execution_count": null,
      "outputs": []
    },
    {
      "source": [
        "\n# Getting acquainted with skoot\n\n\nIntroduces the user to skoot and its layout.\n\n.. raw:: html\n\n   <br/>\n\nThis example walks through the package layout and where various\ntransformers/classes can be located, as well as displays some nuances\nbetween scikit-learn and skoot.\n\n.. raw:: html\n\n   <br/>\n\n"
      ],
      "cell_type": "markdown",
      "metadata": {}
    },
    {
      "source": [
        "print(__doc__)\n\n# Author: Taylor Smith <taylor.smith@alkaline-ml.com>\n\n# #############################################################################\n# Skoot is laid out much like scikit-learn. That is, many of the same modules\n# exist in skoot that are present in scikit. For example:\nfrom skoot import decomposition\nprint(dir(decomposition))  # many are similar to sklearn classes\nprint()\n\n# #############################################################################\n# Skoot also has a dataset interface, like sklearn. Except it returns\n# dataframes rather than numpy arrays:\nfrom skoot.datasets import load_iris_df\ndf = load_iris_df(include_tgt=True, tgt_name='Species')\nprint(df.head())\nprint()\n\n# #############################################################################\n# All skoot transformers are based on the BasePDTransformer:\nfrom skoot.base import BasePDTransformer\n\nprint(BasePDTransformer.__doc__)"
      ],
      "cell_type": "code",
      "metadata": {
        "collapsed": false
      },
      "execution_count": null,
      "outputs": []
    }
  ],
  "metadata": {
    "kernelspec": {
      "language": "python",
      "name": "python3",
      "display_name": "Python 3"
    },
    "language_info": {
      "nbconvert_exporter": "python",
      "version": "3.5.5",
      "codemirror_mode": {
        "name": "ipython",
        "version": 3
      },
      "pygments_lexer": "ipython3",
      "name": "python",
      "file_extension": ".py",
      "mimetype": "text/x-python"
    }
  },
  "nbformat_minor": 0,
  "nbformat": 4
}