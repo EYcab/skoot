{
  "nbformat_minor": 0, 
  "nbformat": 4, 
  "cells": [
    {
      "execution_count": null, 
      "cell_type": "code", 
      "source": [
        "%matplotlib inline"
      ], 
      "outputs": [], 
      "metadata": {
        "collapsed": false
      }
    }, 
    {
      "source": [
        "\n# Getting acquainted with skoot\n\n\nIntroduces the user to skoot and its layout.\n\n.. raw:: html\n\n   <br/>\n\nThis example walks through the package layout and where various\ntransformers/classes can be located, as well as displays some nuances\nbetween scikit-learn and skoot.\n\n.. raw:: html\n\n   <br/>\n\n"
      ], 
      "cell_type": "markdown", 
      "metadata": {}
    }, 
    {
      "execution_count": null, 
      "cell_type": "code", 
      "source": [
        "print(__doc__)\n\n# Author: Taylor Smith <taylor.smith@alkaline-ml.com>\n\n# #############################################################################\n# Skoot is laid out much like scikit-learn. That is, many of the same modules\n# exist in skoot that are present in scikit. For example:\nfrom skoot import decomposition\nprint(dir(decomposition))  # many are similar to sklearn classes\nprint(\"\")\n\n# #############################################################################\n# Skoot also has a dataset interface, like sklearn. Except it returns\n# dataframes rather than numpy arrays:\nfrom skoot.datasets import load_iris_df\ndf = load_iris_df(include_tgt=True, tgt_name='Species')\nprint(df.head())\nprint(\"\")\n\n# #############################################################################\n# All skoot transformers are based on the BasePDTransformer:\nfrom skoot.base import BasePDTransformer\n\nprint(BasePDTransformer.__doc__)"
      ], 
      "outputs": [], 
      "metadata": {
        "collapsed": false
      }
    }
  ], 
  "metadata": {
    "kernelspec": {
      "display_name": "Python 2", 
      "name": "python2", 
      "language": "python"
    }, 
    "language_info": {
      "mimetype": "text/x-python", 
      "nbconvert_exporter": "python", 
      "name": "python", 
      "file_extension": ".py", 
      "version": "2.7.12", 
      "pygments_lexer": "ipython2", 
      "codemirror_mode": {
        "version": 2, 
        "name": "ipython"
      }
    }
  }
}