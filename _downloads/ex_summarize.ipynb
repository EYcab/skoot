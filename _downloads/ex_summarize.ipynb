{
  "nbformat_minor": 0, 
  "nbformat": 4, 
  "cells": [
    {
      "execution_count": null, 
      "cell_type": "code", 
      "source": [
        "%matplotlib inline"
      ], 
      "outputs": [], 
      "metadata": {
        "collapsed": false
      }
    }, 
    {
      "source": [
        "\n# Example summarize\n\n\nDemonstrates how to use the ``summarize`` function to get a quick\nsummary of your dataset.\n\n.. raw:: html\n\n   <br/>\n\n"
      ], 
      "cell_type": "markdown", 
      "metadata": {}
    }, 
    {
      "execution_count": null, 
      "cell_type": "code", 
      "source": [
        "print(__doc__)\n\n# Author: Taylor Smith <taylor.smith@alkaline-ml.com>\n\nfrom skoot.exploration import summarize\nfrom skoot.datasets import load_iris_df\n\n# #############################################################################\n# load data\niris = load_iris_df(include_tgt=True)\n\n# add a feature of nothing but a single level of strings. This is to\n# demonstrate that the summary will report on even uninformative features\niris[\"x5\"] = \"Level1\"\n\n# print the summary of the dataset\nprint(summarize(iris))"
      ], 
      "outputs": [], 
      "metadata": {
        "collapsed": false
      }
    }
  ], 
  "metadata": {
    "kernelspec": {
      "display_name": "Python 2", 
      "name": "python2", 
      "language": "python"
    }, 
    "language_info": {
      "mimetype": "text/x-python", 
      "nbconvert_exporter": "python", 
      "name": "python", 
      "file_extension": ".py", 
      "version": "2.7.12", 
      "pygments_lexer": "ipython2", 
      "codemirror_mode": {
        "version": 2, 
        "name": "ipython"
      }
    }
  }
}