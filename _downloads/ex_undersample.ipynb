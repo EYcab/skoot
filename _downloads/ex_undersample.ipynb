{
  "nbformat_minor": 0, 
  "nbformat": 4, 
  "cells": [
    {
      "execution_count": null, 
      "cell_type": "code", 
      "source": [
        "%matplotlib inline"
      ], 
      "outputs": [], 
      "metadata": {
        "collapsed": false
      }
    }, 
    {
      "source": [
        "\n# Undersampling minority samples\n\n\nThis example creates an imbalanced classification dataset, and\nunder-samples it to balance the class ratios. Under-sampling is\ntypically only possible if your dataset is large enough to\nfacilitate losing some samples from the majority class. If not,\nyou may later suffer from a high variance problem.\n\n.. raw:: html\n\n   <br/>\n\n"
      ], 
      "cell_type": "markdown", 
      "metadata": {}
    }, 
    {
      "execution_count": null, 
      "cell_type": "code", 
      "source": [
        "print(__doc__)\n\n# Author: Taylor Smith <taylor.smith@alkaline-ml.com>\n\nfrom sklearn.datasets import make_classification\nfrom skoot.balance import under_sample_balance\nimport pandas as pd\n\n# #############################################################################\n# Create an imbalanced dataset\nX, y = make_classification(n_samples=5000, n_classes=2, weights=[0.1, 0.9],\n                           random_state=42)\n\n# get counts:\nzero_mask = y == 0\nprint(\"Num zero class (pre-balance): %i\" % zero_mask.sum())\nprint(\"Num one class (pre-balance): %i\\n\" % (~zero_mask).sum())\n\n# #############################################################################\n# Balance the dataset\nX_balance, y_balance = under_sample_balance(X, y, balance_ratio=0.2,\n                                            random_state=42)\n\n# get the new counts\nnew_mask = y_balance == 0\nprint(\"Num zero class (post-balance): %i\" % new_mask.sum())\nprint(\"Num one class (post-balance): %i\" % (~new_mask).sum())\nprint(\"Num samples (post-balance): %i\" % X_balance.shape[0])\n\n# #############################################################################\n# This also works for pandas DataFrames\n\nX_balance_df, _ = under_sample_balance(pd.DataFrame.from_records(X),\n                                       y, balance_ratio=0.2,\n                                       random_state=42)\n\nprint(X_balance_df.head())"
      ], 
      "outputs": [], 
      "metadata": {
        "collapsed": false
      }
    }
  ], 
  "metadata": {
    "kernelspec": {
      "display_name": "Python 2", 
      "name": "python2", 
      "language": "python"
    }, 
    "language_info": {
      "mimetype": "text/x-python", 
      "nbconvert_exporter": "python", 
      "name": "python", 
      "file_extension": ".py", 
      "version": "2.7.12", 
      "pygments_lexer": "ipython2", 
      "codemirror_mode": {
        "version": 2, 
        "name": "ipython"
      }
    }
  }
}